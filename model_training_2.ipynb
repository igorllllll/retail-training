{
 "cells": [
  {
   "cell_type": "markdown",
   "id": "e844ffdb-f9ba-4c46-90e1-2109184532ad",
   "metadata": {},
   "source": [
    "#### Definindo as classes."
   ]
  },
  {
   "cell_type": "code",
   "execution_count": 2,
   "id": "ebb5e290-a173-48ff-a99a-e1eb79c9d8e6",
   "metadata": {},
   "outputs": [],
   "source": [
    "from super_gradients.training.dataloaders.dataloaders import coco_detection_yolo_format_train, coco_detection_yolo_format_val\n",
    "\n",
    "BATCH_SIZE = 1\n",
    "CLASSES = ['product']\n",
    "CLASSES += [str(i) for i in range(80 - len(CLASSES))]"
   ]
  },
  {
   "cell_type": "markdown",
   "id": "ee610db9-bcc5-4d5c-bc93-dcef7d5e8a70",
   "metadata": {},
   "source": [
    "#### Preparação dos dataLoaders para os dados de treino, localizando imagens e rotulos YOLO."
   ]
  },
  {
   "cell_type": "code",
   "execution_count": 3,
   "id": "6871afd3-8ed0-4be7-8694-239a2ca3b4b6",
   "metadata": {},
   "outputs": [
    {
     "name": "stderr",
     "output_type": "stream",
     "text": [
      "Indexing dataset annotations: 100%|███████████████████████████████████████████████| 8185/8185 [00:14<00:00, 582.64it/s]\n",
      "Indexing dataset annotations: 100%|█████████████████████████████████████████████████| 584/584 [00:01<00:00, 559.86it/s]\n",
      "Indexing dataset annotations: 100%|███████████████████████████████████████████████| 2920/2920 [00:05<00:00, 574.02it/s]\n"
     ]
    }
   ],
   "source": [
    "dataset_params = {\n",
    "    'data_dir': \"./SKU110K_fixed\",\n",
    "    'train_images_dir':'images/train',\n",
    "    'train_labels_dir':'labels/train',\n",
    "    'val_images_dir':'images/val',\n",
    "    'val_labels_dir':'labels/val',\n",
    "    'test_images_dir':'images/test',\n",
    "    'test_labels_dir':'labels/test',\n",
    "    'classes': CLASSES\n",
    "}\n",
    "\n",
    "train_data = coco_detection_yolo_format_train(\n",
    "    dataset_params={\n",
    "        'data_dir': dataset_params['data_dir'],\n",
    "        'images_dir': dataset_params['train_images_dir'],\n",
    "        'labels_dir': dataset_params['train_labels_dir'],\n",
    "        'classes': dataset_params['classes']\n",
    "    },\n",
    "    dataloader_params={\n",
    "        'batch_size': BATCH_SIZE,\n",
    "        'num_workers': 2\n",
    "    }\n",
    ")\n",
    "\n",
    "val_data = coco_detection_yolo_format_val(\n",
    "    dataset_params={\n",
    "        'data_dir': dataset_params['data_dir'],\n",
    "        'images_dir': dataset_params['val_images_dir'],\n",
    "        'labels_dir': dataset_params['val_labels_dir'],\n",
    "        'classes': dataset_params['classes']\n",
    "    },\n",
    "    dataloader_params={\n",
    "        'batch_size': BATCH_SIZE,\n",
    "        'num_workers': 2\n",
    "    }\n",
    ")\n",
    "\n",
    "test_data = coco_detection_yolo_format_val(\n",
    "    dataset_params={\n",
    "        'data_dir': dataset_params['data_dir'],\n",
    "        'images_dir': dataset_params['test_images_dir'],\n",
    "        'labels_dir': dataset_params['test_labels_dir'],\n",
    "        'classes': dataset_params['classes']\n",
    "    },\n",
    "    dataloader_params={\n",
    "        'batch_size': BATCH_SIZE,\n",
    "        'num_workers': 2\n",
    "    }\n",
    ")\n",
    "#train_data.dataset.dataset_params[\"image_size\"] = 416\n",
    "#val_data.dataset.dataset_params[\"image_size\"] = 416\n",
    "#test_data.dataset.dataset_params[\"image_size\"] = 416"
   ]
  },
  {
   "cell_type": "markdown",
   "id": "d90359cb-6505-462a-b21c-c88803700c7a",
   "metadata": {},
   "source": [
    "#### Carrega o modelo yolo_nas_s (o menor modelo) com pesos pré-treinados no conjunto COCO e define a executação do treinamento pela GPU."
   ]
  },
  {
   "cell_type": "code",
   "execution_count": 4,
   "id": "d565c7da-abf1-442f-b703-1d36a54f594f",
   "metadata": {},
   "outputs": [],
   "source": [
    "import torch\n",
    "from super_gradients.training import models\n",
    "from super_gradients.training import Trainer\n",
    "\n",
    "DEVICE = 'cuda' if torch.cuda.is_available() else 'cpu'\n",
    "# DEVICE = 'cpu'\n",
    "model = models.get('yolo_nas_s', pretrained_weights=\"coco\").to(DEVICE)\n",
    "trainer = Trainer(experiment_name=\"SKU110K\", ckpt_root_dir=\"./weights\")"
   ]
  },
  {
   "cell_type": "markdown",
   "id": "9286ff02-f703-4c92-a49d-a87d4e2403c0",
   "metadata": {},
   "source": [
    "#### Configuração dos parâmetros de treinamento:\n",
    "\n",
    "1. O *Warmup* aumenta a taxa de aprendizado durante 3 épocas.\n",
    "2. O *Cosine Annealing* reduz gradualmente a taxa de aprendizado ao longo do treinamento.\n",
    "3. Defini o *Optimizer* com 'Adam' e 'wight_decay' para regularização.\n",
    "4. O EMA suaviza os pesos durante o treinamento.\n",
    "5. PPYoloELoss é usada para calcular erros de localização, classificação e detecção.\n",
    "6. Métrica utilizada é a mAP@0.50\n",
    "\n",
    "\n",
    "> **OBS:** O modelo foi ajustado pra convergir antes de chegar nas 300 épocas, já que a perda estabiliza e o mAP@0.50 começa a melhorar antes disso. O mAP foi usado porque avalia tanto a localização dos objetos (com IoU ≥ 0.50) quanto a classificação, o que faz mais sentido pra detecção de objetos. Acurácia, por exemplo, não ajuda aqui porque não considera a localização. E, por questão de recursos limitados, reduzi pra 5 épocas pra terminar o treino mais rápido e já ter uma ideia dos resultados.\n",
    "\n",
    "\n"
   ]
  },
  {
   "cell_type": "code",
   "execution_count": 5,
   "id": "9ae7e09e-33ba-4b9e-917d-ecfda50f125b",
   "metadata": {},
   "outputs": [],
   "source": [
    "from super_gradients.training.losses import PPYoloELoss\n",
    "from super_gradients.training.metrics import DetectionMetrics_050\n",
    "from super_gradients.training.models.detection_models.pp_yolo_e import PPYoloEPostPredictionCallback\n",
    "\n",
    "# MAX_EPOCHS = 300\n",
    "# MAX_EPOCHS = 100\n",
    "# MAX_EPOCHS = 50\n",
    "MAX_EPOCHS = 5\n",
    "\n",
    "\n",
    "train_params = {\n",
    "    'silent_mode': False,\n",
    "    \"average_best_models\":True,\n",
    "    \"warmup_mode\": \"linear_epoch_step\",\n",
    "    \"warmup_initial_lr\": 1e-6,\n",
    "    \"lr_warmup_epochs\": 3,\n",
    "    \"initial_lr\": 5e-4,\n",
    "    \"lr_mode\": \"cosine\",\n",
    "    \"cosine_final_lr_ratio\": 0.1,\n",
    "    \"optimizer\": \"Adam\",\n",
    "    \"optimizer_params\": {\"weight_decay\": 0.0001},\n",
    "    \"zero_weight_decay_on_bias_and_bn\": True,\n",
    "    \"ema\": True,\n",
    "    \"ema_params\": {\"decay\": 0.9, \"decay_type\": \"threshold\"},\n",
    "    \"max_epochs\": MAX_EPOCHS,\n",
    "    \"mixed_precision\": True,\n",
    "    \"loss\": PPYoloELoss(\n",
    "        use_static_assigner=False,\n",
    "        num_classes=len(dataset_params['classes']),\n",
    "        reg_max=16\n",
    "    ),\n",
    "    \"valid_metrics_list\": [\n",
    "        DetectionMetrics_050(\n",
    "            score_thres=0.1,\n",
    "            top_k_predictions=300,\n",
    "            num_cls=len(dataset_params['classes']),\n",
    "            normalize_targets=True,\n",
    "            post_prediction_callback=PPYoloEPostPredictionCallback(\n",
    "                score_threshold=0.01,\n",
    "                nms_top_k=1000,\n",
    "                max_predictions=300,\n",
    "                nms_threshold=0.7\n",
    "            )\n",
    "        )\n",
    "    ],\n",
    "    \"metric_to_watch\": 'mAP@0.50',\n",
    "    #\"gradient_accumulation\": 1,\n",
    "}"
   ]
  },
  {
   "cell_type": "code",
   "execution_count": null,
   "id": "6cc35ea9-8b72-4c66-9c69-9ff4d459c436",
   "metadata": {},
   "outputs": [
    {
     "name": "stderr",
     "output_type": "stream",
     "text": [
      "C:\\Users\\igor.goncalves\\AppData\\Roaming\\Python\\Python39\\site-packages\\super_gradients\\common\\registry\\registry.py:72: DeprecationWarning: Object name `linear_epoch_step` is now deprecated. Please replace it with `LinearEpochLRWarmup`.\n",
      "  warnings.warn(f\"Object name `{name}` is now deprecated. Please replace it with `{deprecated_names[name]}`.\", DeprecationWarning)\n",
      "C:\\Users\\igor.goncalves\\AppData\\Roaming\\Python\\Python39\\site-packages\\super_gradients\\training\\utils\\optimizer_utils.py:108: DeprecationWarning: initialize_param_groups and update_param_groups usages are deprecated since 3.4.0, will be removed in 3.5.0 and have no effect. \n",
      " Assign different learning rates by passing a mapping of layer name prefixes to lr values through initial_lr training hyperparameter (i.e initial_lr={'backbone': 0.01, 'default':0.1})\n",
      "  warnings.warn(\n"
     ]
    }
   ],
   "source": [
    "trainer.train(\n",
    "    model=model, \n",
    "    training_params=train_params, \n",
    "    train_loader=train_data, \n",
    "    valid_loader=val_data\n",
    ")"
   ]
  },
  {
   "cell_type": "code",
   "execution_count": null,
   "id": "725419b5-400b-4409-a296-e516919640a2",
   "metadata": {},
   "outputs": [],
   "source": []
  }
 ],
 "metadata": {
  "kernelspec": {
   "display_name": "Python 3 (ipykernel)",
   "language": "python",
   "name": "python3"
  },
  "language_info": {
   "codemirror_mode": {
    "name": "ipython",
    "version": 3
   },
   "file_extension": ".py",
   "mimetype": "text/x-python",
   "name": "python",
   "nbconvert_exporter": "python",
   "pygments_lexer": "ipython3",
   "version": "3.9.0"
  }
 },
 "nbformat": 4,
 "nbformat_minor": 5
}
